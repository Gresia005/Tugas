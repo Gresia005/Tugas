{
 "cells": [
  {
   "cell_type": "code",
   "execution_count": 1,
   "id": "ef5681ed",
   "metadata": {},
   "outputs": [
    {
     "name": "stdout",
     "output_type": "stream",
     "text": [
      "Ini adalah materi 5.1\n"
     ]
    }
   ],
   "source": [
    "print ('Ini adalah materi 5.1')"
   ]
  },
  {
   "cell_type": "code",
   "execution_count": 2,
   "id": "6f93583b",
   "metadata": {},
   "outputs": [
    {
     "name": "stdout",
     "output_type": "stream",
     "text": [
      "Nama saya \"GRESIA\" dengan NIM \"2108541005\"\n"
     ]
    }
   ],
   "source": [
    "print ('Nama saya \"GRESIA\" dengan NIM \"2108541005\"')"
   ]
  },
  {
   "cell_type": "code",
   "execution_count": 3,
   "id": "84b7d724",
   "metadata": {},
   "outputs": [
    {
     "name": "stdout",
     "output_type": "stream",
     "text": [
      "Ini Kelas Algoritma\n"
     ]
    }
   ],
   "source": [
    "print ('Ini Kelas Algoritma')"
   ]
  },
  {
   "cell_type": "code",
   "execution_count": 4,
   "id": "5fd3a51b",
   "metadata": {},
   "outputs": [
    {
     "name": "stdout",
     "output_type": "stream",
     "text": [
      "Ini Kelas Algoritma\n"
     ]
    }
   ],
   "source": [
    "print (\"Ini Kelas Algoritma\")"
   ]
  },
  {
   "cell_type": "code",
   "execution_count": 5,
   "id": "6e0c5fab",
   "metadata": {},
   "outputs": [
    {
     "name": "stdout",
     "output_type": "stream",
     "text": [
      "I don't understant what are you saying\n"
     ]
    }
   ],
   "source": [
    "print (\"I don't understant what are you saying\")"
   ]
  },
  {
   "cell_type": "code",
   "execution_count": 6,
   "id": "e545a0be",
   "metadata": {},
   "outputs": [
    {
     "name": "stdout",
     "output_type": "stream",
     "text": [
      "He is such a \"GENIUS\"\n"
     ]
    }
   ],
   "source": [
    "print ('He is such a \"GENIUS\"')"
   ]
  },
  {
   "cell_type": "code",
   "execution_count": 7,
   "id": "cb91407e",
   "metadata": {},
   "outputs": [
    {
     "name": "stdout",
     "output_type": "stream",
     "text": [
      "42\n",
      "10000\n",
      "420000\n"
     ]
    }
   ],
   "source": [
    "mahasiswa = 42 \n",
    "uang_di_dompet = 10000\n",
    "print (mahasiswa)\n",
    "print (uang_di_dompet)\n",
    "print (mahasiswa*uang_di_dompet)"
   ]
  },
  {
   "cell_type": "code",
   "execution_count": 8,
   "id": "2cd51c31",
   "metadata": {},
   "outputs": [
    {
     "name": "stdout",
     "output_type": "stream",
     "text": [
      "1\n",
      "100000\n",
      "100001\n"
     ]
    }
   ],
   "source": [
    "gresia = 1\n",
    "uang_di_dompet = 100000\n",
    "print(gresia)\n",
    "print(uang_di_dompet)\n",
    "print(gresia+uang_di_dompet)"
   ]
  },
  {
   "cell_type": "code",
   "execution_count": 9,
   "id": "807b9f86",
   "metadata": {},
   "outputs": [
    {
     "name": "stdout",
     "output_type": "stream",
     "text": [
      "Angga Saputra\n"
     ]
    }
   ],
   "source": [
    "nama_depan = 'Angga'\n",
    "nama_tengah = ' '\n",
    "nama_belakang = \"Saputra\"\n",
    "print(nama_depan + nama_tengah + nama_belakang)"
   ]
  },
  {
   "cell_type": "code",
   "execution_count": 10,
   "id": "e8c11493",
   "metadata": {},
   "outputs": [
    {
     "name": "stdout",
     "output_type": "stream",
     "text": [
      "Niluh Gresia Aurelia\n"
     ]
    }
   ],
   "source": [
    "nama_depan = 'Niluh'\n",
    "nama_tengah = ' Gresia'\n",
    "nama_belakang = \" Aurelia\"\n",
    "print(nama_depan + nama_tengah + nama_belakang)"
   ]
  },
  {
   "cell_type": "code",
   "execution_count": 11,
   "id": "4d231b8d",
   "metadata": {},
   "outputs": [
    {
     "name": "stdout",
     "output_type": "stream",
     "text": [
      "Ini adalah materi 5.2\n"
     ]
    }
   ],
   "source": [
    "print ('Ini adalah materi 5.2')"
   ]
  },
  {
   "cell_type": "code",
   "execution_count": 12,
   "id": "d4383f6f",
   "metadata": {},
   "outputs": [
    {
     "name": "stdout",
     "output_type": "stream",
     "text": [
      "Siapakah nama anda ?Gresia\n",
      "Apakah kegiatan anda sekarang, Gresia?Belajar \n",
      "Semangat Belajar  nya yah, Gresia!\n"
     ]
    }
   ],
   "source": [
    "nama = input(\"Siapakah nama anda ?\")\n",
    "kegiatan = input('Apakah kegiatan anda sekarang, '+ nama +\"?\")\n",
    "print (\"Semangat \"+ kegiatan +\" nya yah, \"+ nama +\"!\")"
   ]
  },
  {
   "cell_type": "code",
   "execution_count": 22,
   "id": "981f0b61",
   "metadata": {},
   "outputs": [
    {
     "name": "stdout",
     "output_type": "stream",
     "text": [
      "Siapakah nama anda? Gresia \n",
      "Apakah kegiatan anda sekarang? Belajar \n",
      "Semangat Belajar nya yah Gresia !\n"
     ]
    }
   ],
   "source": [
    "nama = input(\"Siapakah nama anda? \")\n",
    "kegiatan = input('Apakah kegiatan anda sekarang? ')\n",
    "print (\"Semangat \"+ kegiatan +\"nya yah \"+ nama +\"!\")"
   ]
  },
  {
   "cell_type": "code",
   "execution_count": 17,
   "id": "afdfc3a9",
   "metadata": {},
   "outputs": [
    {
     "name": "stdout",
     "output_type": "stream",
     "text": [
      "Ini adalah materi 5.3\n"
     ]
    }
   ],
   "source": [
    "print ('Ini adalah materi 5.3')"
   ]
  },
  {
   "cell_type": "code",
   "execution_count": 23,
   "id": "08764cc8",
   "metadata": {},
   "outputs": [
    {
     "name": "stdout",
     "output_type": "stream",
     "text": [
      "Berapakah jumlah uang di dompet anda? 2000\n",
      "Berapakah jumlah uang anda di bank? 3000\n",
      "Total uang anda adalah Rp 20003000\n"
     ]
    }
   ],
   "source": [
    "uang_di_dompet = input(\"Berapakah jumlah uang di dompet anda? \")\n",
    "uang_di_bank = input (\"Berapakah jumlah uang anda di bank? \")\n",
    "print (\"Total uang anda adalah Rp \"+ uang_di_dompet + uang_di_bank)"
   ]
  },
  {
   "cell_type": "code",
   "execution_count": 24,
   "id": "54708ad4",
   "metadata": {},
   "outputs": [
    {
     "name": "stdout",
     "output_type": "stream",
     "text": [
      "Berapakah uang yang anda habiskan untuk belanja di pasar? 5000\n",
      "Berapakah uang yang anda habiskan untuk belanja di supermarket? 8000\n",
      "Total uang yang anda habiskan adalah Rp 50008000\n"
     ]
    }
   ],
   "source": [
    "belanja_di_pasar = input(\"Berapakah uang yang anda habiskan untuk belanja di pasar? \")\n",
    "belanja_di_supermarket = input (\"Berapakah uang yang anda habiskan untuk belanja di supermarket? \")\n",
    "print (\"Total uang yang anda habiskan adalah Rp \"+ belanja_di_pasar + belanja_di_supermarket)"
   ]
  },
  {
   "cell_type": "code",
   "execution_count": 26,
   "id": "1b8a95d7",
   "metadata": {},
   "outputs": [
    {
     "name": "stdout",
     "output_type": "stream",
     "text": [
      "Berapakah jumlah uang di dompet anda? 40000\n",
      "Berapakah jumlah uang anda di bank? 340000\n",
      "Total uang anda adalah Rp 380000\n"
     ]
    }
   ],
   "source": [
    "uang_di_dompet = input(\"Berapakah jumlah uang di dompet anda? \")\n",
    "uang_di_bank = input (\"Berapakah jumlah uang anda di bank? \")\n",
    "total_uang = int (uang_di_dompet)+ int(uang_di_bank)\n",
    "print(\"Total uang anda adalah Rp \"+ str (total_uang))"
   ]
  },
  {
   "cell_type": "code",
   "execution_count": 27,
   "id": "6ca7f8bb",
   "metadata": {},
   "outputs": [
    {
     "data": {
      "text/plain": [
       "str"
      ]
     },
     "execution_count": 27,
     "metadata": {},
     "output_type": "execute_result"
    }
   ],
   "source": [
    "type (uang_di_dompet)"
   ]
  },
  {
   "cell_type": "code",
   "execution_count": 28,
   "id": "16f49d0e",
   "metadata": {},
   "outputs": [
    {
     "data": {
      "text/plain": [
       "str"
      ]
     },
     "execution_count": 28,
     "metadata": {},
     "output_type": "execute_result"
    }
   ],
   "source": [
    "type (uang_di_bank)"
   ]
  },
  {
   "cell_type": "code",
   "execution_count": 29,
   "id": "04f54c02",
   "metadata": {},
   "outputs": [
    {
     "data": {
      "text/plain": [
       "int"
      ]
     },
     "execution_count": 29,
     "metadata": {},
     "output_type": "execute_result"
    }
   ],
   "source": [
    "type(total_uang)"
   ]
  },
  {
   "cell_type": "code",
   "execution_count": 30,
   "id": "8680a503",
   "metadata": {},
   "outputs": [
    {
     "name": "stdout",
     "output_type": "stream",
     "text": [
      "Berapakah uang yang anda habiskan untuk belanja di pasar? 300000\n",
      "Berapakah uang yang anda habiskan untuk belanja di supermarket? 50000\n",
      "Total uang yang anda habiskan adalah Rp350000\n"
     ]
    }
   ],
   "source": [
    "belanja_di_pasar = input(\"Berapakah uang yang anda habiskan untuk belanja di pasar? \")\n",
    "belanja_di_supermarket = input (\"Berapakah uang yang anda habiskan untuk belanja di supermarket? \")\n",
    "total_uang_yang_dihabiskan = int (belanja_di_pasar)+ int(belanja_di_supermarket)\n",
    "print (\"Total uang yang anda habiskan adalah Rp\"+ str (total_uang_yang_dihabiskan))"
   ]
  },
  {
   "cell_type": "code",
   "execution_count": 31,
   "id": "5c786dd8",
   "metadata": {},
   "outputs": [
    {
     "data": {
      "text/plain": [
       "str"
      ]
     },
     "execution_count": 31,
     "metadata": {},
     "output_type": "execute_result"
    }
   ],
   "source": [
    "type (belanja_di_pasar)"
   ]
  },
  {
   "cell_type": "code",
   "execution_count": 32,
   "id": "117fc191",
   "metadata": {},
   "outputs": [
    {
     "data": {
      "text/plain": [
       "str"
      ]
     },
     "execution_count": 32,
     "metadata": {},
     "output_type": "execute_result"
    }
   ],
   "source": [
    "type (belanja_di_supermarket)"
   ]
  },
  {
   "cell_type": "code",
   "execution_count": 33,
   "id": "27cb9aa3",
   "metadata": {},
   "outputs": [
    {
     "data": {
      "text/plain": [
       "int"
      ]
     },
     "execution_count": 33,
     "metadata": {},
     "output_type": "execute_result"
    }
   ],
   "source": [
    "type (total_uang_yang_dihabiskan)"
   ]
  },
  {
   "cell_type": "code",
   "execution_count": 36,
   "id": "d0e29bbb",
   "metadata": {},
   "outputs": [
    {
     "name": "stdout",
     "output_type": "stream",
     "text": [
      "Masukan Bilangan Pertama: 20\n",
      "Masukan Bilangan Kedua: 90\n",
      "Jumlah Kedua Bilangan Adalah 110.0\n"
     ]
    }
   ],
   "source": [
    "bilangan_satu = input (\"Masukan Bilangan Pertama: \")\n",
    "bilangan_dua = input (\"Masukan Bilangan Kedua: \")\n",
    "jumlah = float(bilangan_satu)+ float(bilangan_dua)\n",
    "print(\"Jumlah Kedua Bilangan Adalah \"+ str (jumlah))"
   ]
  },
  {
   "cell_type": "code",
   "execution_count": 37,
   "id": "460e7808",
   "metadata": {},
   "outputs": [
    {
     "name": "stdout",
     "output_type": "stream",
     "text": [
      "Masukan Bilangan Pertama: 4\n",
      "Masukan Bilangan Kedua: 3\n",
      "Perkalian Kedua Bilangan Adalah 12.0\n"
     ]
    }
   ],
   "source": [
    "bilangan_satu = input (\"Masukan Bilangan Pertama: \")\n",
    "bilangan_dua = input (\"Masukan Bilangan Kedua: \")\n",
    "jumlah = float(bilangan_satu)* float(bilangan_dua)\n",
    "print(\"Perkalian Kedua Bilangan Adalah \"+ str (jumlah))"
   ]
  },
  {
   "cell_type": "code",
   "execution_count": 38,
   "id": "469e7a8f",
   "metadata": {},
   "outputs": [
    {
     "name": "stdout",
     "output_type": "stream",
     "text": [
      "Ini adalah materi 5.4\n"
     ]
    }
   ],
   "source": [
    "print ('Ini adalah materi 5.4')"
   ]
  },
  {
   "cell_type": "code",
   "execution_count": 45,
   "id": "7f64c812",
   "metadata": {},
   "outputs": [
    {
     "name": "stdout",
     "output_type": "stream",
     "text": [
      "Gresia Adalah seorang Mahasiswa di Universitas Udayana.\n"
     ]
    }
   ],
   "source": [
    "nama = \"Gresia\"\n",
    "pekerjaan = \"Mahasiswa\"\n",
    "institusi = \"Universitas Udayana\"\n",
    "print(nama + ' Adalah seorang ' + pekerjaan + ' di ' + institusi + '.')"
   ]
  },
  {
   "cell_type": "code",
   "execution_count": 1,
   "id": "7179503a",
   "metadata": {},
   "outputs": [
    {
     "name": "stdout",
     "output_type": "stream",
     "text": [
      "Ini adalah materi 5.5\n"
     ]
    }
   ],
   "source": [
    "print ('Ini adalah materi 5.5')"
   ]
  },
  {
   "cell_type": "code",
   "execution_count": 52,
   "id": "4510ceb0",
   "metadata": {},
   "outputs": [],
   "source": [
    "kelas = 'Ini Kelas Algoritma'"
   ]
  },
  {
   "cell_type": "code",
   "execution_count": 53,
   "id": "bd4a9b26",
   "metadata": {},
   "outputs": [
    {
     "name": "stdout",
     "output_type": "stream",
     "text": [
      "Ini\n"
     ]
    }
   ],
   "source": [
    "print (kelas[0:3])"
   ]
  },
  {
   "cell_type": "code",
   "execution_count": 54,
   "id": "f6d73891",
   "metadata": {},
   "outputs": [
    {
     "name": "stdout",
     "output_type": "stream",
     "text": [
      "Ini Kelas Algoritm\n"
     ]
    }
   ],
   "source": [
    "print (kelas[0:-1])"
   ]
  },
  {
   "cell_type": "code",
   "execution_count": 55,
   "id": "50e6c2c1",
   "metadata": {},
   "outputs": [
    {
     "name": "stdout",
     "output_type": "stream",
     "text": [
      "elas Algoritm\n"
     ]
    }
   ],
   "source": [
    "print (kelas[5:-1])"
   ]
  },
  {
   "cell_type": "code",
   "execution_count": 56,
   "id": "5cd02952",
   "metadata": {},
   "outputs": [
    {
     "name": "stdout",
     "output_type": "stream",
     "text": [
      "ieslrm\n"
     ]
    }
   ],
   "source": [
    "print (kelas[2:-1:3])"
   ]
  },
  {
   "cell_type": "code",
   "execution_count": 57,
   "id": "cd2a8db4",
   "metadata": {},
   "outputs": [
    {
     "name": "stdout",
     "output_type": "stream",
     "text": [
      "Ini Kelas Algori\n"
     ]
    }
   ],
   "source": [
    "print (kelas[:-3])"
   ]
  },
  {
   "cell_type": "code",
   "execution_count": 58,
   "id": "2d2574ea",
   "metadata": {},
   "outputs": [
    {
     "name": "stdout",
     "output_type": "stream",
     "text": [
      "ni Kelas Algoritma\n"
     ]
    }
   ],
   "source": [
    "print (kelas[1:])"
   ]
  },
  {
   "cell_type": "code",
   "execution_count": 59,
   "id": "e59f2bc4",
   "metadata": {},
   "outputs": [
    {
     "name": "stdout",
     "output_type": "stream",
     "text": [
      "Ini Kelas Algoritma\n"
     ]
    }
   ],
   "source": [
    "print (kelas[:])"
   ]
  },
  {
   "cell_type": "code",
   "execution_count": 26,
   "id": "dcb7ddf6",
   "metadata": {},
   "outputs": [],
   "source": [
    "nama = 'Niluh Gresia Aurelia'"
   ]
  },
  {
   "cell_type": "code",
   "execution_count": 33,
   "id": "cb89d34a",
   "metadata": {},
   "outputs": [
    {
     "name": "stdout",
     "output_type": "stream",
     "text": [
      "Niluh\n",
      "Niluh Gresia Aurel\n",
      " Gresia Aureli\n",
      "l eaul\n"
     ]
    }
   ],
   "source": [
    "print (nama[0:5])\n",
    "print (nama[0:-2])\n",
    "print (nama[5:-1])\n",
    "print (nama[2:-1:3])"
   ]
  },
  {
   "cell_type": "code",
   "execution_count": 11,
   "id": "884fa29a",
   "metadata": {},
   "outputs": [
    {
     "name": "stdout",
     "output_type": "stream",
     "text": [
      "Ini adalah materi 5.6\n"
     ]
    }
   ],
   "source": [
    "print ('Ini adalah materi 5.6')"
   ]
  },
  {
   "cell_type": "code",
   "execution_count": 12,
   "id": "54a7b2b2",
   "metadata": {},
   "outputs": [],
   "source": [
    "judul = 'Bali Surga Dunia'"
   ]
  },
  {
   "cell_type": "code",
   "execution_count": 13,
   "id": "c987be60",
   "metadata": {},
   "outputs": [
    {
     "name": "stdout",
     "output_type": "stream",
     "text": [
      "16\n"
     ]
    }
   ],
   "source": [
    "print(len(judul))"
   ]
  },
  {
   "cell_type": "code",
   "execution_count": 14,
   "id": "9793252d",
   "metadata": {},
   "outputs": [
    {
     "data": {
      "text/plain": [
       "'BALI SURGA DUNIA'"
      ]
     },
     "execution_count": 14,
     "metadata": {},
     "output_type": "execute_result"
    }
   ],
   "source": [
    "judul.upper()"
   ]
  },
  {
   "cell_type": "code",
   "execution_count": 15,
   "id": "c015edaa",
   "metadata": {},
   "outputs": [
    {
     "data": {
      "text/plain": [
       "'bali surga dunia'"
      ]
     },
     "execution_count": 15,
     "metadata": {},
     "output_type": "execute_result"
    }
   ],
   "source": [
    "judul.lower()"
   ]
  },
  {
   "cell_type": "code",
   "execution_count": 16,
   "id": "70183ee6",
   "metadata": {},
   "outputs": [
    {
     "data": {
      "text/plain": [
       "-1"
      ]
     },
     "execution_count": 16,
     "metadata": {},
     "output_type": "execute_result"
    }
   ],
   "source": [
    "judul.find(\"surga\")"
   ]
  },
  {
   "cell_type": "code",
   "execution_count": 17,
   "id": "406e67c0",
   "metadata": {},
   "outputs": [
    {
     "data": {
      "text/plain": [
       "5"
      ]
     },
     "execution_count": 17,
     "metadata": {},
     "output_type": "execute_result"
    }
   ],
   "source": [
    "judul.find ('Surga')"
   ]
  },
  {
   "cell_type": "code",
   "execution_count": 18,
   "id": "f7c9eb4a",
   "metadata": {},
   "outputs": [
    {
     "data": {
      "text/plain": [
       "-1"
      ]
     },
     "execution_count": 18,
     "metadata": {},
     "output_type": "execute_result"
    }
   ],
   "source": [
    "judul.find('bali')"
   ]
  },
  {
   "cell_type": "code",
   "execution_count": 19,
   "id": "fafe7e23",
   "metadata": {},
   "outputs": [
    {
     "data": {
      "text/plain": [
       "'Indonesia Surga Dunia'"
      ]
     },
     "execution_count": 19,
     "metadata": {},
     "output_type": "execute_result"
    }
   ],
   "source": [
    "judul.replace('Bali', 'Indonesia')"
   ]
  },
  {
   "cell_type": "code",
   "execution_count": 20,
   "id": "a677d65b",
   "metadata": {},
   "outputs": [
    {
     "data": {
      "text/plain": [
       "'Bali Surga Dunia'"
      ]
     },
     "execution_count": 20,
     "metadata": {},
     "output_type": "execute_result"
    }
   ],
   "source": [
    "judul.replace('bali', 'Indonesia')"
   ]
  },
  {
   "cell_type": "code",
   "execution_count": 21,
   "id": "755b639b",
   "metadata": {},
   "outputs": [
    {
     "name": "stdout",
     "output_type": "stream",
     "text": [
      "True\n"
     ]
    }
   ],
   "source": [
    "print('Bali'in judul)"
   ]
  },
  {
   "cell_type": "code",
   "execution_count": 22,
   "id": "2f9cc8f1",
   "metadata": {},
   "outputs": [
    {
     "name": "stdout",
     "output_type": "stream",
     "text": [
      "False\n"
     ]
    }
   ],
   "source": [
    "print('bali'in judul)"
   ]
  },
  {
   "cell_type": "code",
   "execution_count": 16,
   "id": "a0888a08",
   "metadata": {},
   "outputs": [],
   "source": [
    "judul = 'Gresia Prodi Matematika'"
   ]
  },
  {
   "cell_type": "code",
   "execution_count": 17,
   "id": "b52b9475",
   "metadata": {},
   "outputs": [
    {
     "name": "stdout",
     "output_type": "stream",
     "text": [
      "23\n"
     ]
    }
   ],
   "source": [
    "print(len(judul))"
   ]
  },
  {
   "cell_type": "code",
   "execution_count": 24,
   "id": "debd5d92",
   "metadata": {},
   "outputs": [
    {
     "name": "stdout",
     "output_type": "stream",
     "text": [
      "GRESIA PRODI MATEMATIKA\n",
      "gresia prodi matematika\n",
      "0\n",
      "-1\n",
      "Gresia Prodi Kimia\n",
      "Gresia Prodi Matematika\n",
      "True\n",
      "False\n"
     ]
    }
   ],
   "source": [
    "print (judul.upper())\n",
    "print (judul.lower())\n",
    "print (judul.find(\"Gresia\"))\n",
    "print (judul.find ('gresia'))\n",
    "print (judul.replace('Matematika', 'Kimia'))\n",
    "print (judul.replace('matematika', 'Fisika'))\n",
    "print ('Gresia Prodi Matematika'in judul)\n",
    "print ('Gresia Prodi matematika'in judul)"
   ]
  },
  {
   "cell_type": "code",
   "execution_count": 23,
   "id": "ae540206",
   "metadata": {},
   "outputs": [
    {
     "name": "stdout",
     "output_type": "stream",
     "text": [
      "Ini adalah materi 5.7\n"
     ]
    }
   ],
   "source": [
    "print ('Ini adalah materi 5.7')"
   ]
  },
  {
   "cell_type": "code",
   "execution_count": 24,
   "id": "94a8446b",
   "metadata": {},
   "outputs": [
    {
     "name": "stdout",
     "output_type": "stream",
     "text": [
      "5\n",
      "-1\n",
      "6\n",
      "2.3333333333333335\n",
      "2\n",
      "1\n",
      "8\n",
      "4\n",
      "2\n",
      "6\n"
     ]
    }
   ],
   "source": [
    "print (2+3)\n",
    "print (2-3)\n",
    "print(2*3)\n",
    "print(7/3)\n",
    "print(7//3)\n",
    "print(7%3)\n",
    "print(2**3)\n",
    "x=3\n",
    "x+=1\n",
    "print(x)\n",
    "x-=2\n",
    "print(x)\n",
    "x*=3\n",
    "print(x)"
   ]
  },
  {
   "cell_type": "code",
   "execution_count": 15,
   "id": "3dbf8ad7",
   "metadata": {},
   "outputs": [
    {
     "name": "stdout",
     "output_type": "stream",
     "text": [
      "5\n",
      "150\n"
     ]
    }
   ],
   "source": [
    "x = 2+3\n",
    "print (x)\n",
    "x = 30*5\n",
    "print (x)"
   ]
  },
  {
   "cell_type": "code",
   "execution_count": 25,
   "id": "ff65d40d",
   "metadata": {},
   "outputs": [
    {
     "name": "stdout",
     "output_type": "stream",
     "text": [
      "Ini adalah materi 5.8\n"
     ]
    }
   ],
   "source": [
    "print ('Ini adalah materi 5.8')"
   ]
  },
  {
   "cell_type": "code",
   "execution_count": 27,
   "id": "3e7a3959",
   "metadata": {},
   "outputs": [
    {
     "name": "stdout",
     "output_type": "stream",
     "text": [
      "True\n",
      "True\n",
      "True\n",
      "True\n",
      "True\n",
      "True\n"
     ]
    }
   ],
   "source": [
    "x = 3>2\n",
    "print (x)\n",
    "x = 2<3\n",
    "print (x)\n",
    "x = 3 >= 2\n",
    "print (x)\n",
    "x = 2 <= 3\n",
    "print (x)\n",
    "x = 3 == 3\n",
    "print (x)\n",
    "x = 3 != 4\n",
    "print (x)"
   ]
  },
  {
   "cell_type": "code",
   "execution_count": 28,
   "id": "b777a4fd",
   "metadata": {},
   "outputs": [
    {
     "name": "stdout",
     "output_type": "stream",
     "text": [
      "False\n",
      "False\n",
      "False\n",
      "False\n",
      "False\n",
      "False\n"
     ]
    }
   ],
   "source": [
    "x = 2>3\n",
    "print (x)\n",
    "x = 3<2\n",
    "print (x)\n",
    "x = 2 >= 3\n",
    "print (x)\n",
    "x = 3 <= 2\n",
    "print (x) \n",
    "x = 3 == 4\n",
    "print (x)\n",
    "x = 3 != 3 \n",
    "print (x)"
   ]
  },
  {
   "cell_type": "code",
   "execution_count": 13,
   "id": "7a720d5c",
   "metadata": {},
   "outputs": [
    {
     "name": "stdout",
     "output_type": "stream",
     "text": [
      "True\n",
      "False\n"
     ]
    }
   ],
   "source": [
    "x = 3>2\n",
    "print (x)\n",
    "x = 3<1\n",
    "print (x)"
   ]
  },
  {
   "cell_type": "code",
   "execution_count": 29,
   "id": "a70c38b8",
   "metadata": {},
   "outputs": [
    {
     "name": "stdout",
     "output_type": "stream",
     "text": [
      "Ini adalah materi 5.9\n"
     ]
    }
   ],
   "source": [
    "print ('Ini adalah materi 5.9')"
   ]
  },
  {
   "cell_type": "code",
   "execution_count": 30,
   "id": "f4c91c90",
   "metadata": {},
   "outputs": [
    {
     "name": "stdout",
     "output_type": "stream",
     "text": [
      "True\n"
     ]
    }
   ],
   "source": [
    "buah_manggis = 10 \n",
    "buah_mangga = 15 \n",
    "print (buah_manggis > 8 and buah_mangga < 20)"
   ]
  },
  {
   "cell_type": "code",
   "execution_count": 31,
   "id": "896ce2cf",
   "metadata": {},
   "outputs": [
    {
     "name": "stdout",
     "output_type": "stream",
     "text": [
      "True\n"
     ]
    }
   ],
   "source": [
    "print (buah_manggis < 8 or buah_mangga < 20)"
   ]
  },
  {
   "cell_type": "code",
   "execution_count": 32,
   "id": "c97b7b1c",
   "metadata": {},
   "outputs": [
    {
     "name": "stdout",
     "output_type": "stream",
     "text": [
      "False\n"
     ]
    }
   ],
   "source": [
    "print (buah_manggis < 8 or buah_mangga > 20)"
   ]
  },
  {
   "cell_type": "code",
   "execution_count": 33,
   "id": "a3c68d2d",
   "metadata": {},
   "outputs": [
    {
     "name": "stdout",
     "output_type": "stream",
     "text": [
      "True\n"
     ]
    }
   ],
   "source": [
    "print (not(buah_manggis < 8 or buah_mangga > 20))"
   ]
  },
  {
   "cell_type": "code",
   "execution_count": 4,
   "id": "307c65ae",
   "metadata": {},
   "outputs": [
    {
     "name": "stdout",
     "output_type": "stream",
     "text": [
      "Ini adalah materi 5.10\n"
     ]
    }
   ],
   "source": [
    "print ('Ini adalah materi 5.10')"
   ]
  },
  {
   "cell_type": "code",
   "execution_count": 35,
   "id": "e3f4706a",
   "metadata": {},
   "outputs": [
    {
     "name": "stdout",
     "output_type": "stream",
     "text": [
      "Nilai anda adalah 56\n",
      "Anda mendapatkan nilai D\n",
      "Ulang lagi tahun depan\n"
     ]
    }
   ],
   "source": [
    "nilai = float(input(\"Nilai anda adalah \"))\n",
    "if nilai >= 80:\n",
    "    print (\"Anda mendapatkan nilai A\")\n",
    "    print (\"Bagus sekali, selamat! \")\n",
    "if nilai < 80 and nilai >= 70:\n",
    "    print (\"Anda mendapatkan nilai B\")\n",
    "    print (\"Tingkatkan prestasimu! \")\n",
    "if nilai >= 60 and nilai < 70:\n",
    "    print (\"Anda mendapatkan nilai C\")\n",
    "    print (\"Lain kali musti lebih baik \")\n",
    "if nilai >= 50 and nilai < 60:\n",
    "    print (\"Anda mendapatkan nilai D\")\n",
    "    print (\"Ulang lagi tahun depan\")\n",
    "if nilai < 50:\n",
    "    print (\"Anda mendapatkan nilai E\")\n",
    "    print (\"Sampai jumpa tahun depan \")"
   ]
  },
  {
   "cell_type": "code",
   "execution_count": 3,
   "id": "2e5b7903",
   "metadata": {},
   "outputs": [
    {
     "name": "stdout",
     "output_type": "stream",
     "text": [
      "Nilai anda adalah 95\n",
      "Anda mendapatkan nilai A\n",
      "Bagus sekalu, selamat!\n"
     ]
    }
   ],
   "source": [
    "nilai = float(input(\"Nilai anda adalah \"))\n",
    "if nilai >= 80:\n",
    "    print(\"Anda mendapatkan nilai A\")\n",
    "    print(\"Bagus sekalu, selamat!\")\n",
    "elif nilai >= 70:\n",
    "    print(\"Anda mendapatkan nilai B\")\n",
    "    print(\"Tingkatkan prestasimu!\")\n",
    "elif nilai >= 60:\n",
    "    print(\"Anda mendapatkan nilai C\")\n",
    "    print(\"Lain kali musti lebih baik\")\n",
    "elif nilai >= 50: \n",
    "    print(\"Anda mendapatkan nilai D\")\n",
    "    print(\"Ulangi lagi tahun depan\")\n",
    "else:\n",
    "    print(\"Anda mendapatkan nilsi E\")\n",
    "    print(\"Sampai jumpa tahun depan\")"
   ]
  },
  {
   "cell_type": "code",
   "execution_count": 62,
   "id": "c0ec600f",
   "metadata": {},
   "outputs": [
    {
     "name": "stdout",
     "output_type": "stream",
     "text": [
      "Berapa Umur Anda Sekarang ? 18\n",
      "Anda sudah remaja \n",
      "Perbanyaklah relasi \n"
     ]
    }
   ],
   "source": [
    "umur = float(input(\"Berapa Umur Anda Sekarang ? \"))\n",
    "if umur >= 50:\n",
    "    print (\"Anda sudah tua \")\n",
    "    print (\"Banyaklah beristirahat \")\n",
    "if umur < 45 and umur >= 26:\n",
    "    print (\"Anda sudah dewasa \")\n",
    "    print (\"Bekerjakeraslah! \")\n",
    "if umur >= 11 and umur < 25:\n",
    "    print (\"Anda sudah remaja \")\n",
    "    print (\"Perbanyaklah relasi \")\n",
    "if umur >= 5 and umur < 11:\n",
    "    print (\"Anda masih kanak kanak \")\n",
    "    print (\"Bermainlah sepuasnya \")\n",
    "if umur < 5:\n",
    "    print (\"Anda masih balita \")\n",
    "    print (\"Nikmatilah masa balita anda \")"
   ]
  },
  {
   "cell_type": "code",
   "execution_count": 1,
   "id": "6f9e935a",
   "metadata": {},
   "outputs": [
    {
     "name": "stdout",
     "output_type": "stream",
     "text": [
      "Berapakah tinggi anda ? 155\n",
      "Tingginya dalam cm atau inci ? Cm\n",
      "Tinggi anda adalah 61.023655000000005 Inci\n"
     ]
    }
   ],
   "source": [
    "tinggi = float(input(\"Berapakah tinggi anda ? \"))\n",
    "cm_atau_inci = input(\"Tingginya dalam cm atau inci ? \")\n",
    "\n",
    "if cm_atau_inci.upper()== 'CM':\n",
    "    tinggi = tinggi*0.393701\n",
    "    print(\"Tinggi anda adalah \" + str (tinggi) + \" Inci\")\n",
    "elif cm_atau_inci.upper()== 'INCI':\n",
    "    tinggi = tinggi/0.393701\n",
    "    print(f\"Tinggi anda adalah {tinggi}cm\")"
   ]
  },
  {
   "cell_type": "code",
   "execution_count": 5,
   "id": "758aad7e",
   "metadata": {},
   "outputs": [
    {
     "name": "stdout",
     "output_type": "stream",
     "text": [
      "Ini adalah materi 5.11\n"
     ]
    }
   ],
   "source": [
    "print ('Ini adalah materi 5.11')"
   ]
  },
  {
   "cell_type": "code",
   "execution_count": 6,
   "id": "f720dfa2",
   "metadata": {},
   "outputs": [
    {
     "name": "stdout",
     "output_type": "stream",
     "text": [
      "Angka 0 masih dibawah 5\n",
      "Angka 1 masih dibawah 5\n",
      "Angka 2 masih dibawah 5\n",
      "Angka 3 masih dibawah 5\n",
      "Angka 4 masih dibawah 5\n"
     ]
    }
   ],
   "source": [
    "a = 0\n",
    "while a < 5:\n",
    "    print(\"Angka \" + str(a)+\" masih dibawah 5\")\n",
    "    a += 1"
   ]
  },
  {
   "cell_type": "code",
   "execution_count": 7,
   "id": "1f388b2d",
   "metadata": {},
   "outputs": [
    {
     "name": "stdout",
     "output_type": "stream",
     "text": [
      "\n",
      "*\n",
      "**\n",
      "***\n",
      "****\n"
     ]
    }
   ],
   "source": [
    "a = 0 \n",
    "while a < 5:\n",
    "    print(a * '*')\n",
    "    a += 1"
   ]
  },
  {
   "cell_type": "code",
   "execution_count": 8,
   "id": "6050d13c",
   "metadata": {},
   "outputs": [
    {
     "name": "stdout",
     "output_type": "stream",
     "text": [
      "\n",
      "+\n",
      "++\n",
      "+++\n",
      "++++\n",
      "+++++\n",
      "++++++\n",
      "+++++++\n",
      "++++++++\n",
      "+++++++++\n"
     ]
    }
   ],
   "source": [
    "a = 0 \n",
    "while a < 10:\n",
    "    print(a * '+')\n",
    "    a += 1"
   ]
  },
  {
   "cell_type": "code",
   "execution_count": 11,
   "id": "24174b3c",
   "metadata": {},
   "outputs": [
    {
     "name": "stdout",
     "output_type": "stream",
     "text": [
      "Sekian dan Terima Kasih\n"
     ]
    }
   ],
   "source": [
    "print ('Sekian dan Terima Kasih')"
   ]
  }
 ],
 "metadata": {
  "kernelspec": {
   "display_name": "Python 3 (ipykernel)",
   "language": "python",
   "name": "python3"
  },
  "language_info": {
   "codemirror_mode": {
    "name": "ipython",
    "version": 3
   },
   "file_extension": ".py",
   "mimetype": "text/x-python",
   "name": "python",
   "nbconvert_exporter": "python",
   "pygments_lexer": "ipython3",
   "version": "3.9.7"
  }
 },
 "nbformat": 4,
 "nbformat_minor": 5
}

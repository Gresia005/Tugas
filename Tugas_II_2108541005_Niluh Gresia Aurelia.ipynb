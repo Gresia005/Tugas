{
 "cells": [
  {
   "cell_type": "code",
   "execution_count": 1,
   "id": "adee4143",
   "metadata": {},
   "outputs": [
    {
     "name": "stdout",
     "output_type": "stream",
     "text": [
      "Nama : Niluh Gresia Aurelia\n",
      "NIM : 2108541005\n"
     ]
    }
   ],
   "source": [
    "print(\"Nama : Niluh Gresia Aurelia\")\n",
    "print(\"NIM : 2108541005\")"
   ]
  },
  {
   "cell_type": "markdown",
   "id": "e58ba201",
   "metadata": {},
   "source": [
    "##### Ini 5.12 tentang List di Python"
   ]
  },
  {
   "cell_type": "code",
   "execution_count": 2,
   "id": "6d0da8be",
   "metadata": {},
   "outputs": [
    {
     "name": "stdout",
     "output_type": "stream",
     "text": [
      "['mangga', 'pisang', 'rambutan', 'durian']\n",
      "mangga\n",
      "rambutan\n",
      "durian\n",
      "rambutan\n",
      "['mangga', 'pisang', 'rambutan']\n",
      "['mangga', 'pisang', 'rambutan', 'durian']\n"
     ]
    }
   ],
   "source": [
    "buah = ['mangga', 'pisang', 'rambutan', 'durian']\n",
    "print(buah)\n",
    "print(buah[0])\n",
    "print(buah[2])\n",
    "print(buah[-1])\n",
    "print(buah[-2])\n",
    "print(buah[0:3])\n",
    "# tidak mengubah list\n",
    "print(buah)"
   ]
  },
  {
   "cell_type": "code",
   "execution_count": 3,
   "id": "714b0be1",
   "metadata": {},
   "outputs": [
    {
     "name": "stdout",
     "output_type": "stream",
     "text": [
      "['salak', 'pisang', 'rambutan', 'durian']\n"
     ]
    }
   ],
   "source": [
    "buah[0]= 'salak'\n",
    "print(buah)"
   ]
  },
  {
   "cell_type": "markdown",
   "id": "d8a40ff7",
   "metadata": {},
   "source": [
    "##### Contoh Lainnya "
   ]
  },
  {
   "cell_type": "code",
   "execution_count": 4,
   "id": "6f47b432",
   "metadata": {},
   "outputs": [
    {
     "name": "stdout",
     "output_type": "stream",
     "text": [
      "['gresia', 'viora', 'damai', 'jheven']\n",
      "gresia\n",
      "jheven\n",
      "damai\n",
      "viora\n",
      "['gresia', 'viora']\n",
      "['salak', 'pisang', 'rambutan', 'durian']\n"
     ]
    }
   ],
   "source": [
    "nama = ['gresia', 'viora', 'damai', 'jheven']\n",
    "print(nama)\n",
    "print(nama[0])\n",
    "print(nama[3])\n",
    "print(nama[-2])\n",
    "print(nama[-3])\n",
    "print(nama[0:2])\n",
    "# tidak mengubah list\n",
    "print(buah)"
   ]
  },
  {
   "cell_type": "code",
   "execution_count": 5,
   "id": "9fb5be9b",
   "metadata": {},
   "outputs": [
    {
     "name": "stdout",
     "output_type": "stream",
     "text": [
      "['gresia', 'viora', 'damai', 'jheven']\n"
     ]
    }
   ],
   "source": [
    "nama[0]='gresia'\n",
    "print(nama)"
   ]
  },
  {
   "cell_type": "code",
   "execution_count": 6,
   "id": "0da703ad",
   "metadata": {},
   "outputs": [
    {
     "name": "stdout",
     "output_type": "stream",
     "text": [
      "['gresia', 'viora', 'damai', 'jheven']\n",
      "['gresia', 'viora', 'damai', 'jheven']\n"
     ]
    }
   ],
   "source": [
    "nama = ['gresia', 'viora', 'damai', 'jheven']\n",
    "print(nama)\n",
    "# mengubah list\n",
    "print(nama)"
   ]
  },
  {
   "cell_type": "markdown",
   "id": "11b4c386",
   "metadata": {},
   "source": [
    "#### Ini 5.13 tentang Metoda List "
   ]
  },
  {
   "cell_type": "code",
   "execution_count": 7,
   "id": "2a1b3087",
   "metadata": {},
   "outputs": [
    {
     "name": "stdout",
     "output_type": "stream",
     "text": [
      "['Made', 'Eka', 'Dwi', 'Sari']\n",
      "['Dewi', 'Made', 'Eka', 'Dwi', 'Sari']\n",
      "['Dewi', 'Made', 'Dwi', 'Sari']\n",
      "False\n",
      "True\n",
      "4\n"
     ]
    }
   ],
   "source": [
    "nama = ['Made', 'Eka', 'Dwi']\n",
    "nama.append('Sari')\n",
    "print(nama)\n",
    "\n",
    "nama.insert(0,'Dewi')\n",
    "print (nama)\n",
    "\n",
    "nama.remove('Eka')\n",
    "print (nama)\n",
    "\n",
    "print('Eka'in nama)\n",
    "print('Dewi'in nama)\n",
    "\n",
    "print(len(nama))"
   ]
  },
  {
   "cell_type": "markdown",
   "id": "11103780",
   "metadata": {},
   "source": [
    "##### Contoh Lainnya"
   ]
  },
  {
   "cell_type": "code",
   "execution_count": 8,
   "id": "7f15c402",
   "metadata": {},
   "outputs": [
    {
     "name": "stdout",
     "output_type": "stream",
     "text": [
      "['Klungkung', 'Gianyar', 'Badung', 'Denpasar', 'Jembrana']\n",
      "['Buleleng', 'Klungkung', 'Gianyar', 'Badung', 'Denpasar', 'Jembrana']\n",
      "['Buleleng', 'Klungkung', 'Badung', 'Denpasar', 'Jembrana']\n",
      "False\n",
      "True\n",
      "5\n"
     ]
    }
   ],
   "source": [
    "kota = ['Klungkung', 'Gianyar', 'Badung','Denpasar']\n",
    "kota.append('Jembrana')\n",
    "print(kota)\n",
    "\n",
    "kota.insert(0,'Buleleng')\n",
    "print (kota)\n",
    "\n",
    "kota.remove('Gianyar')\n",
    "print (kota)\n",
    "\n",
    "print('Kelungkung'in kota)\n",
    "print('Klungkung'in kota)\n",
    "\n",
    "print(len(kota))"
   ]
  },
  {
   "cell_type": "markdown",
   "id": "566d3180",
   "metadata": {},
   "source": [
    "#### Ini 5.14 tentang For Loop "
   ]
  },
  {
   "cell_type": "code",
   "execution_count": 9,
   "id": "09423ba5",
   "metadata": {},
   "outputs": [
    {
     "name": "stdout",
     "output_type": "stream",
     "text": [
      "Manggis\n",
      "Durian\n",
      "Salak\n",
      "Jeruk\n"
     ]
    }
   ],
   "source": [
    "buah = ['Manggis', 'Durian', 'Salak', 'Jeruk']\n",
    "for jenis in buah: \n",
    "    print(jenis)"
   ]
  },
  {
   "cell_type": "code",
   "execution_count": 10,
   "id": "7b4c00db",
   "metadata": {},
   "outputs": [
    {
     "name": "stdout",
     "output_type": "stream",
     "text": [
      "Manggis\n",
      "Durian\n",
      "Salak\n",
      "Jeruk\n"
     ]
    }
   ],
   "source": [
    "i = 0 \n",
    "while i < len(buah):\n",
    "    print(buah[i])\n",
    "    i+=1"
   ]
  },
  {
   "cell_type": "markdown",
   "id": "644ebdcc",
   "metadata": {},
   "source": [
    "##### Contoh Lainnya "
   ]
  },
  {
   "cell_type": "code",
   "execution_count": 11,
   "id": "24250a5c",
   "metadata": {},
   "outputs": [
    {
     "name": "stdout",
     "output_type": "stream",
     "text": [
      "Bali\n",
      "Jawa Timur\n",
      "Sulawesi Selatan\n",
      "Sulawesi Tengah\n"
     ]
    }
   ],
   "source": [
    "Indonesia = ['Bali', 'Jawa Timur', 'Sulawesi Selatan', 'Sulawesi Tengah']\n",
    "for provinsi in Indonesia: \n",
    "    print(provinsi)"
   ]
  },
  {
   "cell_type": "code",
   "execution_count": 12,
   "id": "bde1a28e",
   "metadata": {},
   "outputs": [
    {
     "name": "stdout",
     "output_type": "stream",
     "text": [
      "Jawa Timur\n",
      "Sulawesi Tengah\n"
     ]
    }
   ],
   "source": [
    "i = 1 \n",
    "while i < len(Indonesia):\n",
    "    print(Indonesia[i])\n",
    "    i+=2"
   ]
  },
  {
   "cell_type": "markdown",
   "id": "7344782d",
   "metadata": {},
   "source": [
    "#### Ini 5.15 tentang Fungsi Range "
   ]
  },
  {
   "cell_type": "code",
   "execution_count": 13,
   "id": "dbd37bdf",
   "metadata": {},
   "outputs": [
    {
     "name": "stdout",
     "output_type": "stream",
     "text": [
      "range(0, 6)\n"
     ]
    }
   ],
   "source": [
    "angka = range(6)\n",
    "print(angka)"
   ]
  },
  {
   "cell_type": "code",
   "execution_count": 14,
   "id": "b8aa5a3e",
   "metadata": {},
   "outputs": [
    {
     "name": "stdout",
     "output_type": "stream",
     "text": [
      "0\n",
      "1\n",
      "2\n",
      "3\n",
      "4\n",
      "5\n"
     ]
    }
   ],
   "source": [
    "for isi in angka:\n",
    "    print(isi)"
   ]
  },
  {
   "cell_type": "code",
   "execution_count": 15,
   "id": "ecf95e3b",
   "metadata": {},
   "outputs": [
    {
     "name": "stdout",
     "output_type": "stream",
     "text": [
      "5\n",
      "6\n",
      "7\n",
      "8\n",
      "9\n"
     ]
    }
   ],
   "source": [
    "for isi in range(5,10):\n",
    "    print (isi)"
   ]
  },
  {
   "cell_type": "code",
   "execution_count": 16,
   "id": "c6421460",
   "metadata": {},
   "outputs": [
    {
     "name": "stdout",
     "output_type": "stream",
     "text": [
      "0\n",
      "2\n",
      "4\n",
      "6\n",
      "8\n"
     ]
    }
   ],
   "source": [
    "for isi in range (0,10,2):\n",
    "    print (isi)"
   ]
  },
  {
   "cell_type": "markdown",
   "id": "0c4a043b",
   "metadata": {},
   "source": [
    "##### Contoh soal : Buatlah program untuk mencari nilai terbesar didalam suatu list "
   ]
  },
  {
   "cell_type": "code",
   "execution_count": 17,
   "id": "1dfa334b",
   "metadata": {},
   "outputs": [
    {
     "name": "stdout",
     "output_type": "stream",
     "text": [
      "5\n"
     ]
    }
   ],
   "source": [
    "data = [1,2,3,4,5,4,3,2,1]\n",
    "terbesar = data[0]\n",
    "for i in range(len(data)):\n",
    "    if data[i]>terbesar :\n",
    "        terbesar = data [i]\n",
    "print(terbesar)"
   ]
  },
  {
   "cell_type": "code",
   "execution_count": 18,
   "id": "c0e73a5e",
   "metadata": {},
   "outputs": [
    {
     "name": "stdout",
     "output_type": "stream",
     "text": [
      "5\n"
     ]
    }
   ],
   "source": [
    "data = [1,2,3,4,5,4,3,2,1]\n",
    "terbesar = data[0]\n",
    "for angka in data: \n",
    "    if angka > terbesar :\n",
    "        terbesar = angka \n",
    "print(terbesar)"
   ]
  },
  {
   "cell_type": "markdown",
   "id": "d4cc983d",
   "metadata": {},
   "source": [
    "##### Contoh soal : Buatlah program untuk membuat anggota list menjadi unik dengan kata lain tidak ada anggota list yang kembar"
   ]
  },
  {
   "cell_type": "code",
   "execution_count": 19,
   "id": "ec379b28",
   "metadata": {},
   "outputs": [
    {
     "name": "stdout",
     "output_type": "stream",
     "text": [
      "[1, 2, 3, 4, 5, 6, 7, 8]\n"
     ]
    }
   ],
   "source": [
    "angka = [1,2,3,4,5,6,3,4,5,7,8,7]\n",
    "angka_unik = []\n",
    "for anggota in angka:\n",
    "    if anggota not in angka_unik:\n",
    "        angka_unik.append(anggota)\n",
    "print(angka_unik)"
   ]
  },
  {
   "cell_type": "markdown",
   "id": "62cd9dab",
   "metadata": {},
   "source": [
    "##### Contoh Lainnya"
   ]
  },
  {
   "cell_type": "code",
   "execution_count": 20,
   "id": "ca68d27f",
   "metadata": {},
   "outputs": [
    {
     "name": "stdout",
     "output_type": "stream",
     "text": [
      "-10\n"
     ]
    }
   ],
   "source": [
    "data = [0,-3,14,17,3,2,1,-10]\n",
    "terkecil = data[0]\n",
    "for angka in data:\n",
    "    if angka < terkecil:\n",
    "        terkecil = angka \n",
    "print(terkecil)"
   ]
  },
  {
   "cell_type": "code",
   "execution_count": 21,
   "id": "a958728b",
   "metadata": {},
   "outputs": [
    {
     "name": "stdout",
     "output_type": "stream",
     "text": [
      "17\n"
     ]
    }
   ],
   "source": [
    "data = [0,-3,14,17,3,2,1,-10]\n",
    "terbesar = data[0]\n",
    "for angka in data:\n",
    "    if angka > terbesar:\n",
    "        terbesar = angka\n",
    "print(terbesar)"
   ]
  },
  {
   "cell_type": "code",
   "execution_count": 22,
   "id": "028431c0",
   "metadata": {},
   "outputs": [
    {
     "name": "stdout",
     "output_type": "stream",
     "text": [
      "[1, 7, 10, 9, 4, 3, 2]\n"
     ]
    }
   ],
   "source": [
    "angka = [7,10,9,4,3,2,7,4,1,2]\n",
    "angka_unik = [1]\n",
    "for anggota in angka:\n",
    "    if anggota not in angka_unik:\n",
    "        angka_unik.append(anggota)\n",
    "print(angka_unik)"
   ]
  },
  {
   "cell_type": "markdown",
   "id": "baa3cb84",
   "metadata": {},
   "source": [
    "#### Ini 5.16 tentang List 2 Dimensi"
   ]
  },
  {
   "cell_type": "code",
   "execution_count": 23,
   "id": "7310abd6",
   "metadata": {},
   "outputs": [
    {
     "name": "stdout",
     "output_type": "stream",
     "text": [
      "[[1, 2, 3, 4], [5, 6, 7, 8], [9, 10, 11, 12], [13, 14, 15, 16]]\n"
     ]
    }
   ],
   "source": [
    "matrik = [\n",
    "    [1,2,3,4],\n",
    "    [5,6,7,8],\n",
    "    [9,10,11,12],\n",
    "    [13,14,15,16]\n",
    "]\n",
    "print(matrik)"
   ]
  },
  {
   "cell_type": "code",
   "execution_count": 24,
   "id": "75e16523",
   "metadata": {},
   "outputs": [
    {
     "data": {
      "text/plain": [
       "[1, 2, 3, 4]"
      ]
     },
     "execution_count": 24,
     "metadata": {},
     "output_type": "execute_result"
    }
   ],
   "source": [
    "matrik[0]"
   ]
  },
  {
   "cell_type": "code",
   "execution_count": 25,
   "id": "d1e90a71",
   "metadata": {},
   "outputs": [
    {
     "data": {
      "text/plain": [
       "[13, 14, 15, 16]"
      ]
     },
     "execution_count": 25,
     "metadata": {},
     "output_type": "execute_result"
    }
   ],
   "source": [
    "matrik[3]"
   ]
  },
  {
   "cell_type": "code",
   "execution_count": 26,
   "id": "b0094493",
   "metadata": {},
   "outputs": [
    {
     "data": {
      "text/plain": [
       "7"
      ]
     },
     "execution_count": 26,
     "metadata": {},
     "output_type": "execute_result"
    }
   ],
   "source": [
    "matrik[1][2]"
   ]
  },
  {
   "cell_type": "code",
   "execution_count": 27,
   "id": "34de6737",
   "metadata": {},
   "outputs": [
    {
     "name": "stdout",
     "output_type": "stream",
     "text": [
      "100\n"
     ]
    }
   ],
   "source": [
    "matrik[1][2]=100\n",
    "print(matrik[1][2])"
   ]
  },
  {
   "cell_type": "code",
   "execution_count": 28,
   "id": "dc173c3e",
   "metadata": {},
   "outputs": [
    {
     "data": {
      "text/plain": [
       "[[1, 2, 3, 4], [5, 6, 100, 8], [9, 10, 11, 12], [13, 14, 15, 16]]"
      ]
     },
     "execution_count": 28,
     "metadata": {},
     "output_type": "execute_result"
    }
   ],
   "source": [
    "matrik"
   ]
  },
  {
   "cell_type": "code",
   "execution_count": 29,
   "id": "fbc8428e",
   "metadata": {},
   "outputs": [
    {
     "name": "stdout",
     "output_type": "stream",
     "text": [
      "[1, 2, 3, 4]\n",
      "1\n",
      "2\n",
      "3\n",
      "4\n",
      "[5, 6, 7, 8]\n",
      "5\n",
      "6\n",
      "7\n",
      "8\n",
      "[9, 10, 11, 12]\n",
      "9\n",
      "10\n",
      "11\n",
      "12\n",
      "[13, 14, 15, 16]\n",
      "13\n",
      "14\n",
      "15\n",
      "16\n"
     ]
    }
   ],
   "source": [
    "matrik = [\n",
    "    [1,2,3,4],\n",
    "    [5,6,7,8],\n",
    "    [9,10,11,12],\n",
    "    [13,14,15,16]\n",
    "]\n",
    "for baris in matrik:\n",
    "    print(baris)\n",
    "    for kolom in baris:\n",
    "        print(kolom)"
   ]
  },
  {
   "cell_type": "markdown",
   "id": "7f78ec48",
   "metadata": {},
   "source": [
    "##### Contoh Lainnya "
   ]
  },
  {
   "cell_type": "code",
   "execution_count": 30,
   "id": "3fa18a40",
   "metadata": {},
   "outputs": [
    {
     "name": "stdout",
     "output_type": "stream",
     "text": [
      "[['Gresia'], ['Aurelia'], ['Viora'], ['Lestari']]\n"
     ]
    }
   ],
   "source": [
    "nama = [\n",
    "    ['Gresia'],\n",
    "    ['Aurelia'],\n",
    "    ['Viora'],\n",
    "    ['Lestari']\n",
    "]\n",
    "print(nama)"
   ]
  },
  {
   "cell_type": "code",
   "execution_count": 31,
   "id": "d6720b11",
   "metadata": {},
   "outputs": [
    {
     "data": {
      "text/plain": [
       "['Gresia']"
      ]
     },
     "execution_count": 31,
     "metadata": {},
     "output_type": "execute_result"
    }
   ],
   "source": [
    "nama[0]"
   ]
  },
  {
   "cell_type": "code",
   "execution_count": 32,
   "id": "b54414e6",
   "metadata": {},
   "outputs": [
    {
     "data": {
      "text/plain": [
       "['Lestari']"
      ]
     },
     "execution_count": 32,
     "metadata": {},
     "output_type": "execute_result"
    }
   ],
   "source": [
    "nama[3]"
   ]
  },
  {
   "cell_type": "code",
   "execution_count": 33,
   "id": "71525c83",
   "metadata": {},
   "outputs": [
    {
     "data": {
      "text/plain": [
       "[['Gresia'], ['Aurelia'], ['Viora'], ['Lestari']]"
      ]
     },
     "execution_count": 33,
     "metadata": {},
     "output_type": "execute_result"
    }
   ],
   "source": [
    "nama"
   ]
  },
  {
   "cell_type": "code",
   "execution_count": 34,
   "id": "bcf7aa45",
   "metadata": {},
   "outputs": [
    {
     "name": "stdout",
     "output_type": "stream",
     "text": [
      "['Gresia']\n",
      "Gresia\n",
      "['Aurelia']\n",
      "Aurelia\n",
      "['Viora']\n",
      "Viora\n",
      "['Lestari']\n",
      "Lestari\n"
     ]
    }
   ],
   "source": [
    "for kolom in nama:\n",
    "    print(kolom)\n",
    "    for baris in kolom:\n",
    "        print(baris)"
   ]
  },
  {
   "cell_type": "code",
   "execution_count": 35,
   "id": "ea017a7a",
   "metadata": {},
   "outputs": [
    {
     "name": "stdout",
     "output_type": "stream",
     "text": [
      "[1, 2, 3, 4]\n",
      "1\n",
      "2\n",
      "3\n",
      "4\n",
      "[5, 6, 7, 8]\n",
      "5\n",
      "6\n",
      "7\n",
      "8\n",
      "[9, 10, 11, 12]\n",
      "9\n",
      "10\n",
      "11\n",
      "12\n",
      "[13, 14, 15, 16]\n",
      "13\n",
      "14\n",
      "15\n",
      "16\n"
     ]
    }
   ],
   "source": [
    "matrik = [\n",
    "    [1,2,3,4],\n",
    "    [5,6,7,8],\n",
    "    [9,10,11,12],\n",
    "    [13,14,15,16]\n",
    "]\n",
    "for kolom in matrik:\n",
    "    print(kolom)\n",
    "    for baris in kolom:\n",
    "        print(baris)"
   ]
  },
  {
   "cell_type": "markdown",
   "id": "8bc57733",
   "metadata": {},
   "source": [
    "#### Ini 5.17 tentang Tuples"
   ]
  },
  {
   "cell_type": "code",
   "execution_count": 36,
   "id": "73bafa72",
   "metadata": {},
   "outputs": [
    {
     "name": "stdout",
     "output_type": "stream",
     "text": [
      "0\n",
      "[0, 1, 1]\n"
     ]
    }
   ],
   "source": [
    "angka = [0,1,1,3,4,5]\n",
    "print(angka[0])\n",
    "print(angka[0:3])"
   ]
  },
  {
   "cell_type": "code",
   "execution_count": 37,
   "id": "1b08e560",
   "metadata": {},
   "outputs": [
    {
     "name": "stdout",
     "output_type": "stream",
     "text": [
      "0\n",
      "1\n",
      "1\n"
     ]
    }
   ],
   "source": [
    "for isi in angka[0:3]:\n",
    "    print(isi)"
   ]
  },
  {
   "cell_type": "code",
   "execution_count": 38,
   "id": "c803fd8e",
   "metadata": {},
   "outputs": [],
   "source": [
    "angka[0]=10"
   ]
  },
  {
   "cell_type": "code",
   "execution_count": 39,
   "id": "8d503a82",
   "metadata": {},
   "outputs": [],
   "source": [
    "angka.append(10)"
   ]
  },
  {
   "cell_type": "code",
   "execution_count": 40,
   "id": "2928ffd5",
   "metadata": {},
   "outputs": [
    {
     "name": "stdout",
     "output_type": "stream",
     "text": [
      "None\n"
     ]
    }
   ],
   "source": [
    "print (angka.append(10))"
   ]
  },
  {
   "cell_type": "code",
   "execution_count": 41,
   "id": "15a236eb",
   "metadata": {},
   "outputs": [],
   "source": [
    "angka.remove(5)"
   ]
  },
  {
   "cell_type": "code",
   "execution_count": 42,
   "id": "193d8bda",
   "metadata": {},
   "outputs": [
    {
     "data": {
      "text/plain": [
       "2"
      ]
     },
     "execution_count": 42,
     "metadata": {},
     "output_type": "execute_result"
    }
   ],
   "source": [
    "angka.count(1)"
   ]
  },
  {
   "cell_type": "code",
   "execution_count": 43,
   "id": "6c8efbdc",
   "metadata": {},
   "outputs": [
    {
     "data": {
      "text/plain": [
       "3"
      ]
     },
     "execution_count": 43,
     "metadata": {},
     "output_type": "execute_result"
    }
   ],
   "source": [
    "angka.index(3)"
   ]
  },
  {
   "cell_type": "markdown",
   "id": "4ad48e3f",
   "metadata": {},
   "source": [
    "##### Contoh Lainya "
   ]
  },
  {
   "cell_type": "code",
   "execution_count": 44,
   "id": "6ac202b1",
   "metadata": {},
   "outputs": [
    {
     "name": "stdout",
     "output_type": "stream",
     "text": [
      "niluh\n",
      "['niluh', 'gresia', 'aurelia']\n"
     ]
    }
   ],
   "source": [
    "nama = ['niluh','gresia','aurelia','damai','viora']\n",
    "print(nama[0])\n",
    "print(nama[0:3])"
   ]
  },
  {
   "cell_type": "code",
   "execution_count": 45,
   "id": "da259cb3",
   "metadata": {},
   "outputs": [
    {
     "name": "stdout",
     "output_type": "stream",
     "text": [
      "niluh\n",
      "gresia\n",
      "aurelia\n"
     ]
    }
   ],
   "source": [
    "for isi in nama[0:3]:\n",
    "    print(isi)"
   ]
  },
  {
   "cell_type": "markdown",
   "id": "5084012e",
   "metadata": {},
   "source": [
    "#### Ini 5.18 tentang Dictionaries"
   ]
  },
  {
   "cell_type": "code",
   "execution_count": 46,
   "id": "b7d32062",
   "metadata": {},
   "outputs": [],
   "source": [
    "data_orang = {\n",
    "    \"nama\" : \"Ketut Dogler\",\n",
    "    \"umur\" : 12,\n",
    "    \"apakah_singel\" : False \n",
    "}   "
   ]
  },
  {
   "cell_type": "code",
   "execution_count": 47,
   "id": "8a1884b9",
   "metadata": {},
   "outputs": [
    {
     "name": "stdout",
     "output_type": "stream",
     "text": [
      "Ketut Dogler\n"
     ]
    }
   ],
   "source": [
    "print(data_orang['nama'])"
   ]
  },
  {
   "cell_type": "code",
   "execution_count": 48,
   "id": "afb8bdb1",
   "metadata": {},
   "outputs": [
    {
     "ename": "KeyError",
     "evalue": "'Nama'",
     "output_type": "error",
     "traceback": [
      "\u001b[1;31m---------------------------------------------------------------------------\u001b[0m",
      "\u001b[1;31mKeyError\u001b[0m                                  Traceback (most recent call last)",
      "\u001b[1;32m~\\AppData\\Local\\Temp/ipykernel_2268/1883148979.py\u001b[0m in \u001b[0;36m<module>\u001b[1;34m\u001b[0m\n\u001b[1;32m----> 1\u001b[1;33m \u001b[0mprint\u001b[0m\u001b[1;33m(\u001b[0m\u001b[0mdata_orang\u001b[0m\u001b[1;33m[\u001b[0m\u001b[1;34m'Nama'\u001b[0m\u001b[1;33m]\u001b[0m\u001b[1;33m)\u001b[0m\u001b[1;33m\u001b[0m\u001b[1;33m\u001b[0m\u001b[0m\n\u001b[0m",
      "\u001b[1;31mKeyError\u001b[0m: 'Nama'"
     ]
    }
   ],
   "source": [
    "print(data_orang['Nama'])"
   ]
  },
  {
   "cell_type": "markdown",
   "id": "d4a49430",
   "metadata": {},
   "source": [
    "##### Yang diatas error karena 'N' tidak ada pada data_orang. Namun yang ada adalah 'n' , maka hal tersebut membuat error, namun dapat diperbaiki dengan hal yang dibawah. "
   ]
  },
  {
   "cell_type": "code",
   "execution_count": 49,
   "id": "3c405cb2",
   "metadata": {},
   "outputs": [
    {
     "name": "stdout",
     "output_type": "stream",
     "text": [
      "Ketut Dogler\n"
     ]
    }
   ],
   "source": [
    "data_orang = {\n",
    "    \"Nama\" : \"Ketut Dogler\",\n",
    "    \"umur\" : 12,\n",
    "    \"apakah_singel\" : False \n",
    "}   \n",
    "print(data_orang['Nama'])"
   ]
  },
  {
   "cell_type": "code",
   "execution_count": 50,
   "id": "e6b5f9ef",
   "metadata": {},
   "outputs": [
    {
     "name": "stdout",
     "output_type": "stream",
     "text": [
      "None\n"
     ]
    }
   ],
   "source": [
    "print(data_orang.get('nama'))"
   ]
  },
  {
   "cell_type": "code",
   "execution_count": 51,
   "id": "4b08f6cc",
   "metadata": {},
   "outputs": [
    {
     "name": "stdout",
     "output_type": "stream",
     "text": [
      "Ketut Dogler\n"
     ]
    }
   ],
   "source": [
    "print(data_orang.get('Nama'))"
   ]
  },
  {
   "cell_type": "code",
   "execution_count": 52,
   "id": "3fcf7970",
   "metadata": {},
   "outputs": [
    {
     "name": "stdout",
     "output_type": "stream",
     "text": [
      "None\n"
     ]
    }
   ],
   "source": [
    "print(data_orang.get('tanggal_lahir'))"
   ]
  },
  {
   "cell_type": "code",
   "execution_count": 53,
   "id": "f4fb4d3f",
   "metadata": {},
   "outputs": [
    {
     "name": "stdout",
     "output_type": "stream",
     "text": [
      "2-2-2010\n"
     ]
    }
   ],
   "source": [
    "print(data_orang.get('tanggal_lahir','2-2-2010'))"
   ]
  },
  {
   "cell_type": "code",
   "execution_count": 54,
   "id": "c528926e",
   "metadata": {},
   "outputs": [
    {
     "name": "stdout",
     "output_type": "stream",
     "text": [
      "{'Nama': 'Ketut Dogler', 'umur': 12, 'apakah_singel': False}\n"
     ]
    }
   ],
   "source": [
    "print(data_orang)"
   ]
  },
  {
   "cell_type": "code",
   "execution_count": 55,
   "id": "c1e324a6",
   "metadata": {},
   "outputs": [
    {
     "name": "stdout",
     "output_type": "stream",
     "text": [
      "2-2-2010\n"
     ]
    }
   ],
   "source": [
    "data_orang = {\n",
    "    \"tanggal_lahir\" : \"2-2-2010\"\n",
    "}\n",
    "print(data_orang['tanggal_lahir'])"
   ]
  },
  {
   "cell_type": "code",
   "execution_count": 56,
   "id": "34591473",
   "metadata": {},
   "outputs": [],
   "source": [
    "data_orang['HP'] = '08123456789'"
   ]
  },
  {
   "cell_type": "code",
   "execution_count": 57,
   "id": "f0ff23df",
   "metadata": {},
   "outputs": [
    {
     "name": "stdout",
     "output_type": "stream",
     "text": [
      "08123456789\n"
     ]
    }
   ],
   "source": [
    "print(data_orang[\"HP\"])"
   ]
  },
  {
   "cell_type": "code",
   "execution_count": 58,
   "id": "db1d293b",
   "metadata": {},
   "outputs": [
    {
     "name": "stdout",
     "output_type": "stream",
     "text": [
      "{'tanggal_lahir': '2-2-2010', 'HP': '08123456789'}\n"
     ]
    }
   ],
   "source": [
    "print(data_orang)"
   ]
  },
  {
   "cell_type": "markdown",
   "id": "4e6ba700",
   "metadata": {},
   "source": [
    "##### Contoh soal : Buatlah program untuk merubah nomor HP yang tadinya berupa angka menjadi sebutan bilangan tersebut."
   ]
  },
  {
   "cell_type": "code",
   "execution_count": 59,
   "id": "cd99ec11",
   "metadata": {},
   "outputs": [],
   "source": [
    "angka = {\n",
    "    \"0\" : \"nol\",\n",
    "    \"1\" : \"satu\",\n",
    "    \"2\" : \"dua\",\n",
    "    \"3\" : \"tiga\",\n",
    "    \"4\" : \"empat\",\n",
    "    \"5\" : \"lima\",\n",
    "    \"6\" : \"enam\",\n",
    "    \"7\" : \"tujuh\",\n",
    "    \"8\" : \"delapan\",\n",
    "    \"9\" : \"sembilan\"\n",
    "}"
   ]
  },
  {
   "cell_type": "code",
   "execution_count": 60,
   "id": "cf7771cc",
   "metadata": {},
   "outputs": [
    {
     "name": "stdout",
     "output_type": "stream",
     "text": [
      "Masukan nomor HP anda 087439556142\n",
      "nol delapan tujuh empat tiga sembilan lima lima enam satu empat dua \n"
     ]
    }
   ],
   "source": [
    "nomor_HP = input(\"Masukan nomor HP anda \")\n",
    "nomor_angka = \"\"\n",
    "for isi in nomor_HP:\n",
    "    nomor_angka += angka.get(isi) + \" \"\n",
    "print (nomor_angka)"
   ]
  },
  {
   "cell_type": "markdown",
   "id": "1061df95",
   "metadata": {},
   "source": [
    "##### Contoh Lainnya"
   ]
  },
  {
   "cell_type": "code",
   "execution_count": 61,
   "id": "2837accf",
   "metadata": {},
   "outputs": [],
   "source": [
    "data_orang = {\n",
    "    \"nama\" : \"Niluh Gresia Aurelia\",\n",
    "    \"umur\" : 18,\n",
    "    \"kuliah_di\" : \" Universitas Udayana \" \n",
    "}   "
   ]
  },
  {
   "cell_type": "code",
   "execution_count": 62,
   "id": "982f2558",
   "metadata": {},
   "outputs": [
    {
     "name": "stdout",
     "output_type": "stream",
     "text": [
      "Niluh Gresia Aurelia\n"
     ]
    }
   ],
   "source": [
    "print(data_orang['nama'])"
   ]
  },
  {
   "cell_type": "code",
   "execution_count": 63,
   "id": "7d6d8560",
   "metadata": {},
   "outputs": [
    {
     "name": "stdout",
     "output_type": "stream",
     "text": [
      "Niluh Gresia Aurelia\n"
     ]
    }
   ],
   "source": [
    "print(data_orang.get('nama'))"
   ]
  },
  {
   "cell_type": "code",
   "execution_count": 64,
   "id": "ecbfd4f3",
   "metadata": {},
   "outputs": [
    {
     "name": "stdout",
     "output_type": "stream",
     "text": [
      " Universitas Udayana \n"
     ]
    }
   ],
   "source": [
    "print(data_orang.get('kuliah_di'))"
   ]
  },
  {
   "cell_type": "code",
   "execution_count": 65,
   "id": "bccb7111",
   "metadata": {},
   "outputs": [
    {
     "name": "stdout",
     "output_type": "stream",
     "text": [
      "None\n"
     ]
    }
   ],
   "source": [
    "print(data_orang.get('tanggal_lahir'))"
   ]
  },
  {
   "cell_type": "code",
   "execution_count": 66,
   "id": "adbe764c",
   "metadata": {},
   "outputs": [
    {
     "name": "stdout",
     "output_type": "stream",
     "text": [
      "{'nama': 'Niluh Gresia Aurelia', 'umur': 18, 'kuliah_di': ' Universitas Udayana '}\n"
     ]
    }
   ],
   "source": [
    "print(data_orang)"
   ]
  },
  {
   "cell_type": "markdown",
   "id": "747c6583",
   "metadata": {},
   "source": [
    "#### Ini 5.19 tentang Fungsi dalam Pyton"
   ]
  },
  {
   "cell_type": "code",
   "execution_count": 67,
   "id": "637f56cd",
   "metadata": {},
   "outputs": [],
   "source": [
    "def full_nama(first_name,last_name):\n",
    "    print(f\"Nama Lengkapnya adalah {first_name} {last_name}\")"
   ]
  },
  {
   "cell_type": "code",
   "execution_count": 68,
   "id": "fde557e8",
   "metadata": {},
   "outputs": [
    {
     "name": "stdout",
     "output_type": "stream",
     "text": [
      "Nama depan anda adalahGresia\n",
      "Nama belakang anda adalahAurelia\n",
      "Nama Lengkapnya adalah Gresia Aurelia\n"
     ]
    }
   ],
   "source": [
    "first_name = input(\"Nama depan anda adalah\")\n",
    "last_name = input(\"Nama belakang anda adalah\")\n",
    "full_nama(first_name,last_name)"
   ]
  },
  {
   "cell_type": "markdown",
   "id": "b179edce",
   "metadata": {},
   "source": [
    "##### Contoh Lainnya "
   ]
  },
  {
   "cell_type": "code",
   "execution_count": 69,
   "id": "24245579",
   "metadata": {},
   "outputs": [],
   "source": [
    "def tempat_tinggal(kota,provinsi):\n",
    "    print(f\"Saya tinggal di {kota},{provinsi}\")"
   ]
  },
  {
   "cell_type": "code",
   "execution_count": 70,
   "id": "03f4fbe8",
   "metadata": {},
   "outputs": [
    {
     "name": "stdout",
     "output_type": "stream",
     "text": [
      "Kamu tinggal diKota mana ? Klungkung\n",
      "Kamu tinggal diProvinsi mana ? Bali \n",
      "Saya tinggal di Klungkung,Bali \n"
     ]
    }
   ],
   "source": [
    "kota = input(\"Kamu tinggal diKota mana ? \")\n",
    "provinsi = input(\"Kamu tinggal diProvinsi mana ? \")\n",
    "tempat_tinggal(kota,provinsi)"
   ]
  },
  {
   "cell_type": "code",
   "execution_count": 71,
   "id": "90a99a92",
   "metadata": {},
   "outputs": [],
   "source": [
    "def data_diri(nama,nomor):\n",
    "    print(f\"Saya adalah {nama} dengan NIM {nomor}\")"
   ]
  },
  {
   "cell_type": "code",
   "execution_count": 72,
   "id": "69486505",
   "metadata": {},
   "outputs": [
    {
     "name": "stdout",
     "output_type": "stream",
     "text": [
      "Siapa nama kamun ? Gresia Aurelia \n",
      "Berapa NIM kamu ? 2108541005\n",
      "Saya adalah Gresia Aurelia  dengan NIM 2108541005\n"
     ]
    }
   ],
   "source": [
    "nama = input(\"Siapa nama kamun ? \")\n",
    "nomor = input (\"Berapa NIM kamu ? \") \n",
    "data_diri(nama,nomor)"
   ]
  },
  {
   "cell_type": "markdown",
   "id": "4a5f4186",
   "metadata": {},
   "source": [
    "#### Ini 5.19.1 tentang Tugas Fungsi pada Pyton "
   ]
  },
  {
   "cell_type": "code",
   "execution_count": 73,
   "id": "1eaa8a64",
   "metadata": {},
   "outputs": [],
   "source": [
    "def waktu_sampai(jarak,kecepatan):\n",
    "    waktu = jarak/kecepatan\n",
    "    print(waktu)"
   ]
  },
  {
   "cell_type": "code",
   "execution_count": 74,
   "id": "627c7586",
   "metadata": {},
   "outputs": [],
   "source": [
    "def waktu_tempuh(jarak,kecepatan):\n",
    "    waktu = jarak/kecepatan\n",
    "    return (waktu)"
   ]
  },
  {
   "cell_type": "code",
   "execution_count": 75,
   "id": "018f93b3",
   "metadata": {},
   "outputs": [
    {
     "name": "stdout",
     "output_type": "stream",
     "text": [
      "1.3333333333333333\n"
     ]
    }
   ],
   "source": [
    "waktu_sampai(80,60)"
   ]
  },
  {
   "cell_type": "code",
   "execution_count": 76,
   "id": "8ab4bcac",
   "metadata": {},
   "outputs": [
    {
     "data": {
      "text/plain": [
       "1.3333333333333333"
      ]
     },
     "execution_count": 76,
     "metadata": {},
     "output_type": "execute_result"
    }
   ],
   "source": [
    "waktu_tempuh (80,60)"
   ]
  },
  {
   "cell_type": "code",
   "execution_count": 77,
   "id": "8ee7fbca",
   "metadata": {},
   "outputs": [
    {
     "name": "stdout",
     "output_type": "stream",
     "text": [
      "1.3333333333333333\n",
      "None\n"
     ]
    }
   ],
   "source": [
    "a = waktu_sampai(80,60)\n",
    "print(a)"
   ]
  },
  {
   "cell_type": "code",
   "execution_count": 78,
   "id": "96f2c74c",
   "metadata": {},
   "outputs": [
    {
     "name": "stdout",
     "output_type": "stream",
     "text": [
      "1.3333333333333333\n"
     ]
    }
   ],
   "source": [
    "b = waktu_tempuh(80,60)\n",
    "print(b)"
   ]
  },
  {
   "cell_type": "markdown",
   "id": "cb62f21f",
   "metadata": {},
   "source": [
    "##### Contoh Lainnya"
   ]
  },
  {
   "cell_type": "code",
   "execution_count": 79,
   "id": "cf3b3c1b",
   "metadata": {},
   "outputs": [],
   "source": [
    "def peluang(banyak_anggota,banyak_anggota_ruang_sampel):\n",
    "    peluang = banyak_anggota/banyak_anggota_ruang_sampel\n",
    "    print(peluang)"
   ]
  },
  {
   "cell_type": "code",
   "execution_count": 80,
   "id": "dd7b1368",
   "metadata": {},
   "outputs": [
    {
     "name": "stdout",
     "output_type": "stream",
     "text": [
      "3.125\n"
     ]
    }
   ],
   "source": [
    "peluang(50,16)"
   ]
  },
  {
   "cell_type": "code",
   "execution_count": 81,
   "id": "f1124767",
   "metadata": {},
   "outputs": [
    {
     "name": "stdout",
     "output_type": "stream",
     "text": [
      "0.5\n"
     ]
    }
   ],
   "source": [
    "peluang(10,20)"
   ]
  },
  {
   "cell_type": "markdown",
   "id": "37252127",
   "metadata": {},
   "source": [
    "##### Contoh Soal : Buatlah program yang menggunakan fungsi Python untuk menghitung luas segitiga , lingkaran, persegi, dan persegi panjang Selain itu berikan peringatan bagi bidang lain yang tidak termasuk perhitungan. "
   ]
  },
  {
   "cell_type": "code",
   "execution_count": 82,
   "id": "95bdcf1b",
   "metadata": {},
   "outputs": [],
   "source": [
    "import numpy as np "
   ]
  },
  {
   "cell_type": "code",
   "execution_count": 83,
   "id": "069188c5",
   "metadata": {},
   "outputs": [],
   "source": [
    "def luas_segitiga (alas,tinggi):\n",
    "    luas = (1/2)*alas*tinggi\n",
    "    return luas\n",
    "def luas_lingkaran (jari_jari):\n",
    "    luas = np.pi*(jari_jari**2)\n",
    "    return luas\n",
    "def luas_persegi(sisi):\n",
    "    luas = sisi**2\n",
    "    return luas\n",
    "def luas_persegi_panjang (panjang,lebar):\n",
    "    luas = panjang*lebar \n",
    "    return luas"
   ]
  },
  {
   "cell_type": "code",
   "execution_count": 84,
   "id": "ab474bd8",
   "metadata": {},
   "outputs": [
    {
     "name": "stdout",
     "output_type": "stream",
     "text": [
      "Tulis jenis bidangnya Persegi\n",
      "Berapakah panjang sisinya? 5\n",
      "Luas Persegi adalah 25.0\n"
     ]
    }
   ],
   "source": [
    "jenis_bidang = input(\"Tulis jenis bidangnya \")\n",
    "if jenis_bidang.upper() == 'SEGITIGA':\n",
    "    alas = float(input('Berapakah panjang alasnya? '))\n",
    "    tinggi = float(input('Berapakah tingginya? '))\n",
    "    luas = luas_segitiga(alas,tinggi)\n",
    "    print(f\"Luas {jenis_bidang} adalah {luas}\")\n",
    "elif jenis_bidang.upper() == 'LINGKARAN':\n",
    "    jari_jari = float(input('Berapakah panjang jari-jarinya? '))\n",
    "    luas = luas_lingkaran(jari_jari)\n",
    "    print(f\"Luas {jenis_bidang} adalah {luas}\")\n",
    "elif (jenis_bidang.upper() == 'PERSEGI') or (jenis_bidang.upper() == 'BUJUR SANGKAR'):\n",
    "    sisi = float(input('Berapakah panjang sisinya? '))\n",
    "    luas = luas_persegi(sisi)\n",
    "    print(f\"Luas {jenis_bidang} adalah {luas}\")\n",
    "elif jenis_bidang.upper() == 'PERSEGI PANJANG':\n",
    "    panjang = float(input('Berapakah panjangnya? '))\n",
    "    lebar = float(input('Berapakah lebarnya? '))\n",
    "    luas = luas_persegi_panjang(panjang,lebar)\n",
    "    print(f\"Luas {jenis_bidang} adalah {luas}\")\n",
    "else : \n",
    "    print(f\"Maaf bidang {jenis_bidang} yang anda masukkan tidak ada.\")\n",
    "    print(\"pilihan cuma SEGITIGA, LINGKARAN, PERSEGI dan PERSEGI PANJANG.\")\n",
    "    print('Terimakasih')"
   ]
  },
  {
   "cell_type": "code",
   "execution_count": 85,
   "id": "a9e81a2f",
   "metadata": {},
   "outputs": [
    {
     "name": "stdout",
     "output_type": "stream",
     "text": [
      "Tulis jenis bidangnya Bola\n",
      "Maaf bidang Bola yang anda masukkan tidak ada.\n",
      "pilihan cuma SEGITIGA, LINGKARAN, PERSEGI dan PERSEGI PANJANG.\n",
      "Terimakasih\n"
     ]
    }
   ],
   "source": [
    "jenis_bidang = input(\"Tulis jenis bidangnya \")\n",
    "if jenis_bidang.upper() == 'SEGITIGA':\n",
    "    alas = float(input('Berapakah panjang alasnya? '))\n",
    "    tinggi = float(input('Berapakah tingginya? '))\n",
    "    luas = luas_segitiga(alas,tinggi)\n",
    "    print(f\"Luas {jenis_bidang} adalah {luas}\")\n",
    "elif jenis_bidang.upper() == 'LINGKARAN':\n",
    "    jari_jari = float(input('Berapakah panjang jari-jarinya? '))\n",
    "    luas = luas_lingkaran(jari_jari)\n",
    "    print(f\"Luas {jenis_bidang} adalah {luas}\")\n",
    "elif (jenis_bidang.upper() == 'PERSEGI') or (jenis_bidang.upper() == 'BUJUR SANGKAR'):\n",
    "    sisi = float(input('Berapakah panjang sisinya? '))\n",
    "    luas = luas_persegi(sisi)\n",
    "    print(f\"Luas {jenis_bidang} adalah {luas}\")\n",
    "elif jenis_bidang.upper() == 'PERSEGI PANJANG':\n",
    "    panjang = float(input('Berapakah panjangnya? '))\n",
    "    lebar = float(input('Berapakah lebarnya? '))\n",
    "    luas = luas_persegi_panjang(panjang,lebar)\n",
    "    print(f\"Luas {jenis_bidang} adalah {luas}\")\n",
    "else : \n",
    "    print(f\"Maaf bidang {jenis_bidang} yang anda masukkan tidak ada.\")\n",
    "    print(\"pilihan cuma SEGITIGA, LINGKARAN, PERSEGI dan PERSEGI PANJANG.\")\n",
    "    print('Terimakasih')"
   ]
  },
  {
   "cell_type": "markdown",
   "id": "006abf4a",
   "metadata": {},
   "source": [
    "### Sekian dan Terima Kasih"
   ]
  }
 ],
 "metadata": {
  "kernelspec": {
   "display_name": "Python 3 (ipykernel)",
   "language": "python",
   "name": "python3"
  },
  "language_info": {
   "codemirror_mode": {
    "name": "ipython",
    "version": 3
   },
   "file_extension": ".py",
   "mimetype": "text/x-python",
   "name": "python",
   "nbconvert_exporter": "python",
   "pygments_lexer": "ipython3",
   "version": "3.9.7"
  }
 },
 "nbformat": 4,
 "nbformat_minor": 5
}
